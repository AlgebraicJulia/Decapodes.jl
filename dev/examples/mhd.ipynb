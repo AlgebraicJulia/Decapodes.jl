{
 "cells": [
  {
   "cell_type": "markdown",
   "source": [
    "The model in this file is copied from the stream function formulation introduced here:\n",
    "https://algebraicjulia.github.io/Decapodes.jl/dev/navier_stokes/ns/\n",
    ", but updated with terms representing β being advected by the fluid. The initial conditions\n",
    "setup code is copied outright."
   ],
   "metadata": {}
  },
  {
   "cell_type": "markdown",
   "source": [
    "The main reference used for developing this model is:\n",
    "\"Magnetohydrodynamics Simulation via Discrete Exterior Calculus\", Gillespie, M.\n",
    "https://markjgillespie.com/Research/MHD/MHD_Simulation_with_DEC.pdf\n",
    "Note that the Gillespie paper does not use a stream function-vorticity formulation."
   ],
   "metadata": {}
  },
  {
   "outputs": [
    {
     "name": "stdout",
     "output_type": "stream",
     "text": [
      "[ Info: Loading Dependencies\n"
     ]
    }
   ],
   "cell_type": "code",
   "source": [
    "@info \"Loading Dependencies\""
   ],
   "metadata": {},
   "execution_count": 1
  },
  {
   "cell_type": "markdown",
   "source": [
    "Dependencies can be installed with the following command:"
   ],
   "metadata": {}
  },
  {
   "outputs": [],
   "cell_type": "code",
   "source": [
    "using Pkg"
   ],
   "metadata": {},
   "execution_count": 2
  },
  {
   "cell_type": "markdown",
   "source": [
    "Pkg.add([\"ACSets\", \"CairoMakie\", \"CombinatorialSpaces\", \"ComponentArrays\",\n",
    "  \"CoordRefSystems\", \"DiagrammaticEquations\", \"GeometryBasics\", \"JLD2\",\n",
    "  \"LinearAlgebra\", \"Logging\", \"LoggingExtras\", \"OrdinaryDiffEq\", \"SparseArrays\",\n",
    "  \"StaticArrays\", \"TerminalLoggers\"])"
   ],
   "metadata": {}
  },
  {
   "cell_type": "markdown",
   "source": [
    "Saving"
   ],
   "metadata": {}
  },
  {
   "outputs": [],
   "cell_type": "code",
   "source": [
    "using JLD2"
   ],
   "metadata": {},
   "execution_count": 3
  },
  {
   "cell_type": "markdown",
   "source": [
    "other dependencies"
   ],
   "metadata": {}
  },
  {
   "outputs": [],
   "cell_type": "code",
   "source": [
    "using MLStyle\n",
    "using Statistics: mean"
   ],
   "metadata": {},
   "execution_count": 4
  },
  {
   "cell_type": "markdown",
   "source": [
    "AlgebraicJulia"
   ],
   "metadata": {}
  },
  {
   "outputs": [],
   "cell_type": "code",
   "source": [
    "using ACSets\n",
    "using CombinatorialSpaces\n",
    "using Decapodes\n",
    "using DiagrammaticEquations"
   ],
   "metadata": {},
   "execution_count": 5
  },
  {
   "cell_type": "markdown",
   "source": [
    "Meshing"
   ],
   "metadata": {}
  },
  {
   "outputs": [],
   "cell_type": "code",
   "source": [
    "using CoordRefSystems\n",
    "using GeometryBasics: Point3\n",
    "Point3D = Point3{Float64};"
   ],
   "metadata": {},
   "execution_count": 6
  },
  {
   "cell_type": "markdown",
   "source": [
    "Visualization"
   ],
   "metadata": {}
  },
  {
   "outputs": [],
   "cell_type": "code",
   "source": [
    "using CairoMakie"
   ],
   "metadata": {},
   "execution_count": 7
  },
  {
   "cell_type": "markdown",
   "source": [
    "Simulation"
   ],
   "metadata": {}
  },
  {
   "outputs": [],
   "cell_type": "code",
   "source": [
    "using ComponentArrays\n",
    "using LinearAlgebra\n",
    "using LinearAlgebra: factorize\n",
    "using Logging: global_logger\n",
    "using LoggingExtras\n",
    "using OrdinaryDiffEq\n",
    "using SparseArrays\n",
    "using StaticArrays"
   ],
   "metadata": {},
   "execution_count": 8
  },
  {
   "cell_type": "markdown",
   "source": [
    "Saving"
   ],
   "metadata": {}
  },
  {
   "outputs": [],
   "cell_type": "code",
   "source": [
    "using JLD2"
   ],
   "metadata": {},
   "execution_count": 9
  },
  {
   "cell_type": "markdown",
   "source": [
    "other dependencies"
   ],
   "metadata": {}
  },
  {
   "outputs": [
    {
     "name": "stdout",
     "output_type": "stream",
     "text": [
      "[ Info: Defining models\n"
     ]
    }
   ],
   "cell_type": "code",
   "source": [
    "using MLStyle\n",
    "using Statistics: mean\n",
    "\n",
    "@info \"Defining models\""
   ],
   "metadata": {},
   "execution_count": 10
  },
  {
   "cell_type": "markdown",
   "source": [
    "Beta is out-of-plane:"
   ],
   "metadata": {}
  },
  {
   "outputs": [],
   "cell_type": "code",
   "source": [
    "mhd_out_of_plane = @decapode begin\n",
    "    ψ::Form0\n",
    "    η::DualForm1\n",
    "    (dη,β)::DualForm2\n",
    "\n",
    "    ∂ₜ(dη) == -1*(∘(⋆₁, dual_d₁)((⋆(dη) ∧₀₁ ♭♯(η)) + (⋆(β) ∧₀₁ ♭♯(∘(⋆, d, ⋆)(β)))))\n",
    "    ∂ₜ(β) == -1*(∘(⋆₁, dual_d₁)(⋆(β) ∧₀₁ ♭♯(η)))\n",
    "\n",
    "    ψ == ∘(⋆, Δ⁻¹)(dη)\n",
    "    η == ⋆(d(ψ))\n",
    "end;"
   ],
   "metadata": {},
   "execution_count": 11
  },
  {
   "cell_type": "markdown",
   "source": [
    "Beta lies in-plane:"
   ],
   "metadata": {}
  },
  {
   "outputs": [
    {
     "name": "stdout",
     "output_type": "stream",
     "text": [
      "[ Info: Allocating Mesh and Operators\n",
      "[ Info: Setting Initial Conditions\n"
     ]
    },
    {
     "output_type": "execute_result",
     "data": {
      "text/plain": "Main.var\"##232\".vort_ring"
     },
     "metadata": {},
     "execution_count": 12
    }
   ],
   "cell_type": "code",
   "source": [
    "mhd = @decapode begin\n",
    "    ψ::Form0\n",
    "    (η,β)::DualForm1\n",
    "    dη::DualForm2\n",
    "\n",
    "    ∂ₜ(dη) == -1*(∘(⋆₁, dual_d₁)((⋆(dη) ∧₀₁ ♭♯(η)) + (♭♯(⋆(β)) ∧ᵈᵈ₁₀ ∘(⋆, d, ⋆)(β))))\n",
    "    ∂ₜ(β) == -1*(∘(⋆₂, dual_d₀)(⋆(β) ∧ᵖᵈ₁₁ η))\n",
    "\n",
    "    ψ == ∘(⋆, Δ⁻¹)(dη)\n",
    "    η == ⋆(d(ψ))\n",
    "end;\n",
    "\n",
    "@info \"Allocating Mesh and Operators\"\n",
    "const RADIUS = 1.0;\n",
    "sphere = :ICO7;\n",
    "s = @match sphere begin\n",
    "    :ICO5 => loadmesh(Icosphere(4, RADIUS));\n",
    "    :ICO6 => loadmesh(Icosphere(6, RADIUS));\n",
    "    :ICO7 => loadmesh(Icosphere(7, RADIUS));\n",
    "    :ICO8 => loadmesh(Icosphere(8, RADIUS));\n",
    "    :flat => triangulated_grid(10, 10, 0.2, 0.2, Point3D)\n",
    "    :UV => begin\n",
    "        s, _, _ = makeSphere(0, 180, 2.5, 0, 360, 2.5, RADIUS);\n",
    "        s;\n",
    "    end\n",
    "end;\n",
    "dualmesh = EmbeddedDeltaDualComplex2D{Bool,Float64,Point3D}(s);\n",
    "subdivide_duals!(dualmesh, Circumcenter());\n",
    "\n",
    "Δ0 = Δ(0,dualmesh);\n",
    "fΔ0 = factorize(Δ0);\n",
    "d0 = dec_differential(0,dualmesh);\n",
    "d1 = dec_differential(1,dualmesh);\n",
    "dd0 = dec_dual_derivative(0,dualmesh);\n",
    "dd1 = dec_dual_derivative(1,dualmesh);\n",
    "δ1 = δ(1,dualmesh);\n",
    "s0 = dec_hodge_star(0,dualmesh,GeometricHodge());\n",
    "s1 = dec_hodge_star(1,dualmesh,GeometricHodge());\n",
    "s2 = dec_hodge_star(2, dualmesh);\n",
    "s0inv = dec_inv_hodge_star(0,dualmesh,GeometricHodge());\n",
    "♭♯_m = ♭♯_mat(dualmesh);\n",
    "\n",
    "function generate(dualmesh, my_symbol; hodge=GeometricHodge())\n",
    "  op = @match my_symbol begin\n",
    "    :Δ⁻¹ => x -> begin\n",
    "      y = fΔ0 \\ x\n",
    "      y .- minimum(y)\n",
    "    end\n",
    "    _ => default_dec_matrix_generate(dualmesh, my_symbol, hodge)\n",
    "  end\n",
    "  return (args...) -> op(args...)\n",
    "end;\n",
    "\n",
    "sim = evalsim(mhd);\n",
    "f = sim(dualmesh, generate);\n",
    "\n",
    "constants_and_parameters = (μ = 0.001,)\n",
    "\n",
    "@info \"Setting Initial Conditions\"\n",
    "\n",
    "\"\"\"    function great_circle_dist(pnt,G,a,cntr)\n",
    "Compute the length of the shortest path along a sphere, given Cartesian coordinates.\n",
    "\"\"\"\n",
    "function great_circle_dist(pnt1::Point3D, pnt2::Point3D)\n",
    "  RADIUS * acos(dot(pnt1,pnt2))\n",
    "end\n",
    "\n",
    "abstract type AbstractVortexParams end\n",
    "\n",
    "struct TaylorVortexParams <: AbstractVortexParams\n",
    "  G::Real\n",
    "  a::Real\n",
    "end\n",
    "\n",
    "struct PointVortexParams <: AbstractVortexParams\n",
    "  τ::Real\n",
    "  a::Real\n",
    "end\n",
    "\n",
    "\"\"\"    function taylor_vortex(pnt::Point3D, cntr::Point3D, p::TaylorVortexParams)\n",
    "Compute the value of a Taylor vortex at the given point.\n",
    "\"\"\"\n",
    "function taylor_vortex(pnt::Point3D, cntr::Point3D, p::TaylorVortexParams)\n",
    "  gcd = great_circle_dist(pnt,cntr)\n",
    "  (p.G/p.a) * (2 - (gcd/p.a)^2) * exp(0.5 * (1 - (gcd/p.a)^2))\n",
    "end\n",
    "\n",
    "\"\"\"    function point_vortex(pnt::Point3D, cntr::Point3D, p::PointVortexParams)\n",
    "Compute the value of a smoothed point vortex at the given point.\n",
    "\"\"\"\n",
    "function point_vortex(pnt::Point3D, cntr::Point3D, p::PointVortexParams)\n",
    "  gcd = great_circle_dist(pnt,cntr)\n",
    "  p.τ / (cosh(3gcd/p.a)^2)\n",
    "end\n",
    "\n",
    "taylor_vortex(dualmesh::HasDeltaSet, cntr::Point3D, p::TaylorVortexParams) =\n",
    "  map(x -> taylor_vortex(x, cntr, p), point(dualmesh))\n",
    "point_vortex(dualmesh::HasDeltaSet, cntr::Point3D, p::PointVortexParams) =\n",
    "  map(x -> point_vortex(x, cntr, p), point(dualmesh))\n",
    "\n",
    "\"\"\"    function ring_centers(lat, n)\n",
    "Find n equispaced points at the given latitude.\n",
    "\"\"\"\n",
    "function ring_centers(lat, n)\n",
    "  ϕs = range(0.0, 2π; length=n+1)[1:n]\n",
    "  map(ϕs) do ϕ\n",
    "    v_sph = Spherical(RADIUS, lat, ϕ)\n",
    "    v_crt = convert(Cartesian, v_sph)\n",
    "    Point3D(v_crt.x.val, v_crt.y.val, v_crt.z.val)\n",
    "  end\n",
    "end\n",
    "\n",
    "\"\"\"    function vort_ring(lat, n_vorts, p::T, formula) where {T<:AbstractVortexParams}\n",
    "Compute vorticity as primal 0-forms for a ring of vortices.\n",
    "Specify the latitude, number of vortices, and a formula for computing vortex strength centered at a point.\n",
    "\"\"\"\n",
    "function vort_ring(lat, n_vorts, p::T, formula) where {T<:AbstractVortexParams}\n",
    "  sum(map(x -> formula(dualmesh, x, p), ring_centers(lat, n_vorts)))\n",
    "end\n",
    "\n",
    "\"\"\"    function vort_ring(lat, n_vorts, p::PointVortexParams, formula)\n",
    "Compute vorticity as primal 0-forms for a ring of vortices.\n",
    "Specify the latitude, number of vortices, and a formula for computing vortex strength centered at a point.\n",
    "Additionally, place a counter-balance vortex at the South Pole such that the integral of vorticity is 0.\n",
    "\"\"\"\n",
    "function vort_ring(lat, n_vorts, p::PointVortexParams, formula)\n",
    "  Xs = sum(map(x -> formula(dualmesh, x, p), ring_centers(lat, n_vorts)))\n",
    "  Xsp = point_vortex(dualmesh, Point3D(0.0, 0.0, -1.0), PointVortexParams(-1*n_vorts*p.τ, p.a))\n",
    "  Xs + Xsp\n",
    "end"
   ],
   "metadata": {},
   "execution_count": 12
  },
  {
   "cell_type": "markdown",
   "source": [
    "Six equidistant points at latitude θ=0.4.\n",
    "\"... an additional vortex, with strength τ=-18 and a radius a=0.15, is\n",
    "placed at the south pole (θ=π).\""
   ],
   "metadata": {}
  },
  {
   "outputs": [
    {
     "output_type": "execute_result",
     "data": {
      "text/plain": "40962-element Vector{Float64}:\n 0.05195923149585724\n 0.03380228579044342\n 0.011922240257263184\n 0.052145928144454956\n 0.09183818101882935\n 0.07075363397598267\n 0.011984661221504211\n 0.03331261873245239\n 0.07111331820487976\n 0.09179434180259705\n ⋮\n 0.035103410482406616\n 0.03488440811634064\n 0.0346725732088089\n 0.03446769714355469\n 0.034269869327545166\n 0.03407904505729675\n 0.033895090222358704\n 0.03371794521808624\n 0.03354752063751221"
     },
     "metadata": {},
     "execution_count": 13
    }
   ],
   "cell_type": "code",
   "source": [
    "X = vort_ring(0.4, 6, PointVortexParams(3.0, 0.15), point_vortex)\n",
    "\n",
    "\"\"\"    function solve_poisson(vort::VForm)\n",
    "Compute the stream function by solving the Poisson equation.\n",
    "\"\"\"\n",
    "function solve_poisson(vort::VForm)\n",
    "  ψ = fΔ0 \\ vort.data\n",
    "  ψ = ψ .- minimum(ψ)\n",
    "end\n",
    "solve_poisson(vort::DualForm{2}) =\n",
    "  solve_poisson(VForm(s0inv * vort.data))\n",
    "\n",
    "ψ = solve_poisson(VForm(X))"
   ],
   "metadata": {},
   "execution_count": 13
  },
  {
   "cell_type": "markdown",
   "source": [
    "Compute velocity as curl (⋆d) of the stream function."
   ],
   "metadata": {}
  },
  {
   "outputs": [
    {
     "output_type": "execute_result",
     "data": {
      "text/plain": "integral_of_curl (generic function with 1 method)"
     },
     "metadata": {},
     "execution_count": 14
    }
   ],
   "cell_type": "code",
   "source": [
    "curl_stream(ψ) = s1 * d0 * ψ\n",
    "divergence(u) = s2 * d1 * (s1 \\ u)\n",
    "RMS(x) = √(mean(x' * x))\n",
    "\n",
    "integral_of_curl(curl::DualForm{2}) = sum(curl.data)"
   ],
   "metadata": {},
   "execution_count": 14
  },
  {
   "cell_type": "markdown",
   "source": [
    "Recall that s0 effectively multiplies each entry by a solid angle.\n",
    "i.e. (sum ∘ ⋆₀) computes a Riemann sum."
   ],
   "metadata": {}
  },
  {
   "outputs": [
    {
     "name": "stdout",
     "output_type": "stream",
     "text": [
      "[ Info: Solving\n"
     ]
    },
    {
     "output_type": "execute_result",
     "data": {
      "text/plain": "\"mhd.mp4\""
     },
     "metadata": {},
     "execution_count": 15
    }
   ],
   "cell_type": "code",
   "source": [
    "integral_of_curl(curl::VForm) = integral_of_curl(DualForm{2}(s0*curl.data))\n",
    "\n",
    "u₀ = ComponentArray(dη = s0*X, β = zeros(ne(dualmesh)))\n",
    "\n",
    "constants_and_parameters = (μ = 0.0,)\n",
    "\n",
    "\n",
    "@info(\"Solving\")\n",
    "tₑ = 1.0;\n",
    "\n",
    "prob = ODEProblem(f, u₀, (0, tₑ), constants_and_parameters)\n",
    "soln = solve(prob,\n",
    "  Tsit5(),\n",
    "  dtmax = 1e-3,\n",
    "  dense=false,\n",
    "  progress=true, progress_steps=1);\n",
    "\n",
    "function visualize_dynamics(file_name, soln)\n",
    "    time = Observable(0.0)\n",
    "    fig = Figure()\n",
    "    Label(fig[1, 1, Top()], @lift(\"...at $($time)\"), padding = (0, 0, 5, 0))\n",
    "    ax = CairoMakie.Axis(fig[1,1])\n",
    "    msh = CairoMakie.mesh!(ax, s,\n",
    "      color=@lift(s0inv*soln($time).dη),\n",
    "      colormap=Reverse(:redsblues))\n",
    "    Colorbar(fig[1,2], msh)\n",
    "    record(fig, file_name, soln.t[1:10:end]; framerate = 10) do t\n",
    "      time[] = t\n",
    "    end\n",
    "end\n",
    "visualize_dynamics(\"mhd.mp4\", soln)"
   ],
   "metadata": {},
   "execution_count": 15
  }
 ],
 "nbformat_minor": 3,
 "metadata": {
  "language_info": {
   "file_extension": ".jl",
   "mimetype": "application/julia",
   "name": "julia",
   "version": "1.11.4"
  },
  "kernelspec": {
   "name": "julia-1.11",
   "display_name": "Julia 1.11.4",
   "language": "julia"
  }
 },
 "nbformat": 4
}

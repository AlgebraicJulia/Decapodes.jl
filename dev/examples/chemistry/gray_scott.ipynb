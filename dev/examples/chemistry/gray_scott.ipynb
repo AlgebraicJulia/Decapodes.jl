{
 "cells": [
  {
   "outputs": [
    {
     "name": "stdout",
     "output_type": "stream",
     "text": [
      "WARNING: using ComponentArrays.Axis in module ##245 conflicts with an existing identifier.\n"
     ]
    },
    {
     "output_type": "execute_result",
     "data": {
      "text/plain": "GeometryBasics.Point{3, Float64}"
     },
     "metadata": {},
     "execution_count": 1
    }
   ],
   "cell_type": "code",
   "source": [
    "using Catlab\n",
    "using CombinatorialSpaces\n",
    "using DiagrammaticEquations\n",
    "using Decapodes\n",
    "using MLStyle\n",
    "using OrdinaryDiffEq\n",
    "using LinearAlgebra\n",
    "using CairoMakie\n",
    "import CairoMakie: wireframe, mesh, Figure, Axis\n",
    "using ComponentArrays\n",
    "\n",
    "using GeometryBasics: Point2, Point3\n",
    "Point2D = Point2{Float64}\n",
    "Point3D = Point3{Float64}"
   ],
   "metadata": {},
   "execution_count": 1
  },
  {
   "cell_type": "markdown",
   "source": [
    "We use the model equations as stated here:\n",
    "https://github.com/JuliaParallel/julia-hpc-tutorial-sc24/blob/main/parts/gpu/gray-scott.ipynb\n",
    "Initial conditions were based off those given here:\n",
    "https://itp.uni-frankfurt.de/~gros/StudentProjects/Projects_2020/projekt_schulz_kaefer/#header"
   ],
   "metadata": {}
  },
  {
   "outputs": [
    {
     "output_type": "execute_result",
     "data": {
      "text/plain": "10201-element Vector{Float64}:\n 0.0\n 0.0\n 0.0\n 0.0\n 0.0\n 0.0\n 0.0\n 0.0\n 0.0\n 0.0\n ⋮\n 0.0\n 0.0\n 0.0\n 0.0\n 0.0\n 0.0\n 0.0\n 0.0\n 0.0"
     },
     "metadata": {},
     "execution_count": 2
    }
   ],
   "cell_type": "code",
   "source": [
    "GrayScott = @decapode begin\n",
    "  (U, V)::Form0\n",
    "  (UV2)::Form0\n",
    "  (U̇, V̇)::Form0\n",
    "  (f, k, rᵤ, rᵥ)::Constant\n",
    "  B::Constant\n",
    "\n",
    "  UV2 == (U .* (V .* V))\n",
    "  lap_U == mask(Δ(U), B)\n",
    "  lap_V == mask(Δ(V), B)\n",
    "\n",
    "  U̇ == rᵤ * lap_U - UV2 + f * (1 .- U)\n",
    "  V̇ == rᵥ * lap_V + UV2 - (f + k) .* V\n",
    "  ∂ₜ(U) == U̇\n",
    "  ∂ₜ(V) == V̇\n",
    "end\n",
    "\n",
    "n = 100\n",
    "h = 1\n",
    "\n",
    "s = triangulated_grid(n,n,h,h,Point3D);\n",
    "sd = EmbeddedDeltaDualComplex2D{Bool,Float64,Point2D}(s);\n",
    "subdivide_duals!(sd, Circumcenter());\n",
    "\n",
    "sim = eval(gensim(GrayScott))\n",
    "\n",
    "left_wall_idxs = findall(x -> x[1] <= h, s[:point])\n",
    "right_wall_idxs = findall(x -> x[1] >= n - h, s[:point])\n",
    "top_wall_idxs = findall(y -> y[2] == 0.0, s[:point])\n",
    "bot_wall_idxs = findall(y -> y[2] == n, s[:point])\n",
    "\n",
    "wall_idxs = unique(vcat(left_wall_idxs, right_wall_idxs, top_wall_idxs, bot_wall_idxs))\n",
    "function generate(sd, my_symbol; hodge=GeometricHodge())\n",
    "  op = @match my_symbol begin\n",
    "    :mask => (x,y) -> begin\n",
    "      x[wall_idxs] .= y\n",
    "      x\n",
    "    end\n",
    "    _ => error(\"Unmatched operator $my_symbol\")\n",
    "  end\n",
    "end\n",
    "\n",
    "fₘ = sim(sd, generate, DiagonalHodge())\n",
    "\n",
    "init_multi = 0.5\n",
    "\n",
    "U = rand(0.0:0.001:0.1, nv(sd))\n",
    "V = zeros(nv(sd))\n",
    "\n",
    "mid = div(n, 2)\n",
    "\n",
    "mid_p = Point2D(mid, mid)\n",
    "\n",
    "init = map(p -> if norm(p - mid_p, Inf) <= 5; 1.0 .* init_multi; else 0.0; end, sd[:point])"
   ],
   "metadata": {},
   "execution_count": 2
  },
  {
   "cell_type": "markdown",
   "source": [
    "Set up an initial small disturbance"
   ],
   "metadata": {}
  },
  {
   "outputs": [
    {
     "output_type": "execute_result",
     "data": {
      "text/plain": "(rᵤ = 0.16, rᵥ = 0.08, f = 0.055, k = 0.062, B = 0)"
     },
     "metadata": {},
     "execution_count": 3
    }
   ],
   "cell_type": "code",
   "source": [
    "U .+= init\n",
    "V .+= 0.5 * init\n",
    "\n",
    "u₀ = ComponentArray(U=U,V=V)\n",
    "\n",
    "f = 0.055\n",
    "k = 0.062\n",
    "constants_and_parameters = (\n",
    "  rᵤ = 0.16,\n",
    "  rᵥ = 0.08,\n",
    "  f = f,\n",
    "  k = k,\n",
    "  B = 0)"
   ],
   "metadata": {},
   "execution_count": 3
  },
  {
   "cell_type": "markdown",
   "source": [
    "fig = Figure();\n",
    "ax = CairoMakie.Axis(fig[1,1], aspect=1, title = \"Initial value of U\")\n",
    "msh = CairoMakie.mesh!(ax, s, color=U, colormap=:jet, colorrange=(extrema(U)))\n",
    "Colorbar(fig[1,2], msh)\n",
    "display(fig)"
   ],
   "metadata": {}
  },
  {
   "cell_type": "markdown",
   "source": [
    "fig = Figure()\n",
    "ax = CairoMakie.Axis(fig[1,1], aspect=1, title = \"Initial value of V\") # hide\n",
    "msh = CairoMakie.mesh!(ax, s, color=V, colormap=:jet, colorrange=extrema(V)) # hide\n",
    "Colorbar(fig[1,2], msh)\n",
    "fig"
   ],
   "metadata": {}
  },
  {
   "outputs": [
    {
     "name": "stdout",
     "output_type": "stream",
     "text": [
      "[ Info: Solving\n",
      "[ Info: Done\n"
     ]
    },
    {
     "output_type": "execute_result",
     "data": {
      "text/plain": "\"gs_f=0.055_k=0.062.mp4\""
     },
     "metadata": {},
     "execution_count": 4
    }
   ],
   "cell_type": "code",
   "source": [
    "tₑ = 10_000\n",
    "\n",
    "@info(\"Solving\")\n",
    "problem = ODEProblem(fₘ, u₀, (0, tₑ), constants_and_parameters)\n",
    "solution = solve(problem, Tsit5())\n",
    "@info(\"Done\")\n",
    "\n",
    "function save_dynamics(save_file_name)\n",
    "  time = Observable(0.0)\n",
    "  u = @lift(solution($time).U)\n",
    "  f = Figure()\n",
    "  ax_U = CairoMakie.Axis(f[1,1], title = @lift(\"Concentration of U at Time $($time)\"))\n",
    "\n",
    "  msh_U = mesh!(ax_U, s, color=u, colormap=:jet, colorrange=(0, 1.1))\n",
    "  Colorbar(f[1,2], msh_U)\n",
    "\n",
    "  timestamps = range(0, tₑ, step=50)\n",
    "  record(f, save_file_name, timestamps; framerate = 30) do t\n",
    "    time[] = t\n",
    "  end\n",
    "end\n",
    "\n",
    "save_dynamics(\"gs_f=$(f)_k=$(k).mp4\")"
   ],
   "metadata": {},
   "execution_count": 4
  }
 ],
 "nbformat_minor": 3,
 "metadata": {
  "language_info": {
   "file_extension": ".jl",
   "mimetype": "application/julia",
   "name": "julia",
   "version": "1.11.4"
  },
  "kernelspec": {
   "name": "julia-1.11",
   "display_name": "Julia 1.11.4",
   "language": "julia"
  }
 },
 "nbformat": 4
}
